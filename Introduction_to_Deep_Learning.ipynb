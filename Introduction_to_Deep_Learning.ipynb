{
  "nbformat": 4,
  "nbformat_minor": 0,
  "metadata": {
    "colab": {
      "name": "Introduction to Deep Learning.ipynb",
      "provenance": [],
      "collapsed_sections": []
    },
    "kernelspec": {
      "name": "python3",
      "display_name": "Python 3"
    }
  },
  "cells": [
    {
      "cell_type": "markdown",
      "metadata": {
        "id": "Du6tsYFR4DlT",
        "colab_type": "text"
      },
      "source": [
        "## The Major steps involved in Developing Deep Learning Models involve:-\n",
        "  1. Load the data. \n",
        "  2. Preprocess the data.\n",
        "  3. Define the model (sequential and add conv layers, pooling etc )\n",
        "  4. Compile the model\n",
        "  5. Fit the model to the data\n",
        "  6. Make predictions on test/new data\n",
        "  7. Performance evaluation\n",
        "  8. Save the model."
      ]
    },
    {
      "cell_type": "markdown",
      "metadata": {
        "id": "5oWUHD2r3_u1",
        "colab_type": "text"
      },
      "source": [
        "## Loading the libraries"
      ]
    },
    {
      "cell_type": "code",
      "metadata": {
        "id": "FOj2P0o24IuQ",
        "colab_type": "code",
        "colab": {}
      },
      "source": [
        "import numpy as np\n",
        "import os\n",
        "from keras.datasets import cifar10\n",
        "from keras.models import Sequential\n",
        "from keras.layers.core import Dense, Dropout, Activation\n",
        "from keras.optimizers import adam\n",
        "from keras.utils import np_utils"
      ],
      "execution_count": 2,
      "outputs": []
    },
    {
      "cell_type": "markdown",
      "metadata": {
        "id": "3fGJP3OW2hFB",
        "colab_type": "text"
      },
      "source": [
        "## Loading the data"
      ]
    },
    {
      "cell_type": "code",
      "metadata": {
        "id": "WktOgFpY3yAd",
        "colab_type": "code",
        "colab": {
          "base_uri": "https://localhost:8080/",
          "height": 51
        },
        "outputId": "46e55ae2-7cb1-4ddb-bbba-10f2e2c2c567"
      },
      "source": [
        "# setting the seed for reproducibility\n",
        "np.random.seed(100)\n",
        "(X_train, y_train), (X_test, y_test) = cifar10.load_data()\n",
        "print('Train data shape is {}'.format(X_train.shape))\n",
        "print('Test data shape is {}'.format(X_test.shape))"
      ],
      "execution_count": 4,
      "outputs": [
        {
          "output_type": "stream",
          "text": [
            "Train data shape is (50000, 32, 32, 3)\n",
            "Test data shape is (10000, 32, 32, 3)\n"
          ],
          "name": "stdout"
        }
      ]
    },
    {
      "cell_type": "markdown",
      "metadata": {
        "id": "-bQb_fVp6PTf",
        "colab_type": "text"
      },
      "source": [
        "## Preprocess the data\n",
        "\n",
        "### Flattening the data"
      ]
    },
    {
      "cell_type": "code",
      "metadata": {
        "id": "FdP-VfEi6TIs",
        "colab_type": "code",
        "colab": {
          "base_uri": "https://localhost:8080/",
          "height": 51
        },
        "outputId": "f2c7e0a0-a5ca-408c-8ab4-281184df2232"
      },
      "source": [
        "X_train = X_train.reshape(X_train.shape[0], 3072)\n",
        "X_test = X_test.reshape(X_test.shape[0], 3072)\n",
        "\n",
        "print('Train data shape after reshape is {}'.format(X_train.shape))\n",
        "print('Test data shape after reshape is {}'.format(X_test.shape))\n",
        "\n",
        "# y labels to binary classes\n",
        "n_labels = 10\n",
        "y_train = np_utils.to_categorical(y_train, num_classes=n_labels)\n",
        "y_test = np_utils.to_categorical(y_test, num_classes=n_labels)"
      ],
      "execution_count": 13,
      "outputs": [
        {
          "output_type": "stream",
          "text": [
            "Train data shape after reshape is (50000, 3072)\n",
            "Test data shape after reshape is (10000, 3072)\n"
          ],
          "name": "stdout"
        }
      ]
    },
    {
      "cell_type": "code",
      "metadata": {
        "id": "INUtGWmC-FdI",
        "colab_type": "code",
        "colab": {}
      },
      "source": [
        ""
      ],
      "execution_count": null,
      "outputs": []
    }
  ]
}