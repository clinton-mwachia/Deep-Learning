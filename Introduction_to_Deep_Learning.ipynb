{
  "nbformat": 4,
  "nbformat_minor": 0,
  "metadata": {
    "colab": {
      "name": "Introduction to Deep Learning.ipynb",
      "provenance": [],
      "collapsed_sections": [],
      "authorship_tag": "ABX9TyM/gvwgmqPQfKRwLAyidGQ3",
      "include_colab_link": true
    },
    "kernelspec": {
      "name": "python3",
      "display_name": "Python 3"
    }
  },
  "cells": [
    {
      "cell_type": "markdown",
      "metadata": {
        "id": "view-in-github",
        "colab_type": "text"
      },
      "source": [
        "<a href=\"https://colab.research.google.com/github/clinton-mwachia/Deep-Learning/blob/master/Introduction_to_Deep_Learning.ipynb\" target=\"_parent\"><img src=\"https://colab.research.google.com/assets/colab-badge.svg\" alt=\"Open In Colab\"/></a>"
      ]
    },
    {
      "cell_type": "markdown",
      "metadata": {
        "id": "Du6tsYFR4DlT",
        "colab_type": "text"
      },
      "source": [
        "## The Major steps involved in Developing Deep Learning Models involve:-\n",
        "  1. Load the data. \n",
        "  2. Preprocess the data.\n",
        "  3. Define the model (sequential and add conv layers, pooling etc )\n",
        "  4. Compile the model\n",
        "  5. Fit the model to the data\n",
        "  6. Make predictions on test/new data\n",
        "  7. Performance evaluation\n",
        "  8. Save the model."
      ]
    },
    {
      "cell_type": "markdown",
      "metadata": {
        "id": "5oWUHD2r3_u1",
        "colab_type": "text"
      },
      "source": [
        "## Loading the libraries"
      ]
    },
    {
      "cell_type": "code",
      "metadata": {
        "id": "FOj2P0o24IuQ",
        "colab_type": "code",
        "colab": {}
      },
      "source": [
        "import numpy as np\n",
        "import os\n",
        "from keras.datasets import cifar10\n",
        "from keras.models import Sequential\n",
        "from keras.layers.core import Dense, Dropout, Activation\n",
        "from keras.optimizers import adam\n",
        "from keras.utils import np_utils\n",
        "from keras.callbacks import EarlyStopping"
      ],
      "execution_count": 16,
      "outputs": []
    },
    {
      "cell_type": "markdown",
      "metadata": {
        "id": "3fGJP3OW2hFB",
        "colab_type": "text"
      },
      "source": [
        "## Loading the data"
      ]
    },
    {
      "cell_type": "code",
      "metadata": {
        "id": "WktOgFpY3yAd",
        "colab_type": "code",
        "colab": {
          "base_uri": "https://localhost:8080/",
          "height": 85
        },
        "outputId": "929d44bb-198f-45e0-c6c1-d064ad021a6f"
      },
      "source": [
        "# setting the seed for reproducibility\n",
        "np.random.seed(100)\n",
        "(X_train, y_train), (X_test, y_test) = cifar10.load_data()\n",
        "print('Train data shape is {}'.format(X_train.shape))\n",
        "print('Test data shape is {}'.format(X_test.shape))"
      ],
      "execution_count": 2,
      "outputs": [
        {
          "output_type": "stream",
          "text": [
            "Downloading data from https://www.cs.toronto.edu/~kriz/cifar-10-python.tar.gz\n",
            "170500096/170498071 [==============================] - 11s 0us/step\n",
            "Train data shape is (50000, 32, 32, 3)\n",
            "Test data shape is (10000, 32, 32, 3)\n"
          ],
          "name": "stdout"
        }
      ]
    },
    {
      "cell_type": "markdown",
      "metadata": {
        "id": "-bQb_fVp6PTf",
        "colab_type": "text"
      },
      "source": [
        "## Preprocess the data\n",
        "\n",
        "### Flattening the data"
      ]
    },
    {
      "cell_type": "code",
      "metadata": {
        "id": "FdP-VfEi6TIs",
        "colab_type": "code",
        "colab": {
          "base_uri": "https://localhost:8080/",
          "height": 51
        },
        "outputId": "aade3d26-13be-4729-d7af-4104b8e00a6e"
      },
      "source": [
        "X_train = X_train.reshape(X_train.shape[0], 3072)\n",
        "X_test = X_test.reshape(X_test.shape[0], 3072)\n",
        "\n",
        "print('Train data shape after reshape is {}'.format(X_train.shape))\n",
        "print('Test data shape after reshape is {}'.format(X_test.shape))\n",
        "\n",
        "# y labels to binary classes\n",
        "n_labels = 10\n",
        "y_train = np_utils.to_categorical(y_train, num_classes=n_labels)\n",
        "y_test = np_utils.to_categorical(y_test, num_classes=n_labels)"
      ],
      "execution_count": 3,
      "outputs": [
        {
          "output_type": "stream",
          "text": [
            "Train data shape after reshape is (50000, 3072)\n",
            "Test data shape after reshape is (10000, 3072)\n"
          ],
          "name": "stdout"
        }
      ]
    },
    {
      "cell_type": "markdown",
      "metadata": {
        "id": "LQWmTk7LdZQ3",
        "colab_type": "text"
      },
      "source": [
        "## Define the Model"
      ]
    },
    {
      "cell_type": "code",
      "metadata": {
        "id": "INUtGWmC-FdI",
        "colab_type": "code",
        "colab": {
          "base_uri": "https://localhost:8080/",
          "height": 377
        },
        "outputId": "a748b9eb-2938-485b-dd3a-43387fa91443"
      },
      "source": [
        "model = Sequential()\n",
        "model.add(Dense(512, input_shape=(3072,), activation=Activation('relu')))\n",
        "model.add(Dropout(0.4))\n",
        "model.add(Dense(120, activation=Activation('relu')))\n",
        "model.add(Dropout(0.2))\n",
        "model.add(Dense(n_labels, activation=Activation('sigmoid')))\n",
        "\n",
        "model.summary()"
      ],
      "execution_count": 5,
      "outputs": [
        {
          "output_type": "stream",
          "text": [
            "Model: \"sequential_2\"\n",
            "_________________________________________________________________\n",
            "Layer (type)                 Output Shape              Param #   \n",
            "=================================================================\n",
            "dense_4 (Dense)              (None, 512)               1573376   \n",
            "_________________________________________________________________\n",
            "dropout_3 (Dropout)          (None, 512)               0         \n",
            "_________________________________________________________________\n",
            "dense_5 (Dense)              (None, 120)               61560     \n",
            "_________________________________________________________________\n",
            "dropout_4 (Dropout)          (None, 120)               0         \n",
            "_________________________________________________________________\n",
            "dense_6 (Dense)              (None, 10)                1210      \n",
            "=================================================================\n",
            "Total params: 1,636,146\n",
            "Trainable params: 1,636,146\n",
            "Non-trainable params: 0\n",
            "_________________________________________________________________\n"
          ],
          "name": "stdout"
        },
        {
          "output_type": "stream",
          "text": [
            "/usr/local/lib/python3.6/dist-packages/keras/activations.py:235: UserWarning: Do not pass a layer instance (such as Activation) as the activation argument of another layer. Instead, advanced activation layers should be used just like any other layer in a model.\n",
            "  identifier=identifier.__class__.__name__))\n"
          ],
          "name": "stderr"
        }
      ]
    },
    {
      "cell_type": "markdown",
      "metadata": {
        "id": "6ZOy6dVmgJKg",
        "colab_type": "text"
      },
      "source": [
        "## Compile the Model"
      ]
    },
    {
      "cell_type": "code",
      "metadata": {
        "id": "c_McAj6PgL6k",
        "colab_type": "code",
        "colab": {}
      },
      "source": [
        "adam = adam(learning_rate = 0.01)\n",
        "\n",
        "model.compile(loss ='categorical_crossentropy', optimizer=adam, metrics=['accuracy'])"
      ],
      "execution_count": 6,
      "outputs": []
    },
    {
      "cell_type": "markdown",
      "metadata": {
        "id": "-iCi0-P1h5Wh",
        "colab_type": "text"
      },
      "source": [
        "## Fit the model"
      ]
    },
    {
      "cell_type": "code",
      "metadata": {
        "id": "3HREMRS-h7k5",
        "colab_type": "code",
        "colab": {
          "base_uri": "https://localhost:8080/",
          "height": 173
        },
        "outputId": "afa52581-e600-4c15-f675-07d41a7dac15"
      },
      "source": [
        "early_stopping_monitor = EarlyStopping(monitor='val_loss',patience=2)\n",
        "\n",
        "model.fit(x = X_train, y = y_train, batch_size = 1000, epochs=10, \n",
        "          validation_data=(X_test, y_test),\n",
        "          callbacks=[early_stopping_monitor])"
      ],
      "execution_count": 17,
      "outputs": [
        {
          "output_type": "stream",
          "text": [
            "Train on 50000 samples, validate on 10000 samples\n",
            "Epoch 1/10\n",
            "50000/50000 [==============================] - 8s 151us/step - loss: 7.5223 - accuracy: 0.1001 - val_loss: 7.5223 - val_accuracy: 0.1000\n",
            "Epoch 2/10\n",
            "50000/50000 [==============================] - 7s 148us/step - loss: 7.5228 - accuracy: 0.1000 - val_loss: 7.5223 - val_accuracy: 0.1000\n",
            "Epoch 3/10\n",
            "50000/50000 [==============================] - 7s 149us/step - loss: 7.5225 - accuracy: 0.1000 - val_loss: 7.5223 - val_accuracy: 0.1000\n"
          ],
          "name": "stdout"
        },
        {
          "output_type": "execute_result",
          "data": {
            "text/plain": [
              "<keras.callbacks.callbacks.History at 0x7f6db0cb0dd8>"
            ]
          },
          "metadata": {
            "tags": []
          },
          "execution_count": 17
        }
      ]
    },
    {
      "cell_type": "code",
      "metadata": {
        "id": "RO-Q-_uxnLus",
        "colab_type": "code",
        "colab": {}
      },
      "source": [
        "#print(model.output_shape)\n",
        "#print(model.get_weights())"
      ],
      "execution_count": 21,
      "outputs": []
    },
    {
      "cell_type": "markdown",
      "metadata": {
        "id": "-SgdzoI-i_ld",
        "colab_type": "text"
      },
      "source": [
        "## Evaluation of the Model"
      ]
    },
    {
      "cell_type": "code",
      "metadata": {
        "id": "9neJrMGojDAP",
        "colab_type": "code",
        "colab": {
          "base_uri": "https://localhost:8080/",
          "height": 34
        },
        "outputId": "fcc00db7-bcb4-42f8-8f2b-cb8683fe7197"
      },
      "source": [
        "score = model.evaluate(x=X_test, y=y_test, verbose=0)\n",
        "\n",
        "print('Test accuracy: ', score[1])"
      ],
      "execution_count": 10,
      "outputs": [
        {
          "output_type": "stream",
          "text": [
            "Test accuracy:  0.10000000149011612\n"
          ],
          "name": "stdout"
        }
      ]
    },
    {
      "cell_type": "markdown",
      "metadata": {
        "id": "ln7tcRDhjlGQ",
        "colab_type": "text"
      },
      "source": [
        "## Making predictions"
      ]
    },
    {
      "cell_type": "code",
      "metadata": {
        "id": "4uppap4Fjo-g",
        "colab_type": "code",
        "colab": {
          "base_uri": "https://localhost:8080/",
          "height": 34
        },
        "outputId": "09f9a612-1e71-4808-85b5-f302dae1d293"
      },
      "source": [
        "model.predict_classes(x=X_test)"
      ],
      "execution_count": 12,
      "outputs": [
        {
          "output_type": "execute_result",
          "data": {
            "text/plain": [
              "array([0, 0, 0, ..., 0, 0, 0])"
            ]
          },
          "metadata": {
            "tags": []
          },
          "execution_count": 12
        }
      ]
    }
  ]
}