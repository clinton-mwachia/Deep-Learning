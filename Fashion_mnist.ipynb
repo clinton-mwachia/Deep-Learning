{
  "nbformat": 4,
  "nbformat_minor": 0,
  "metadata": {
    "colab": {
      "name": "Fashion mnist.ipynb",
      "provenance": [],
      "collapsed_sections": [],
      "authorship_tag": "ABX9TyNQU+EL9fMyA/4RfReW8kvn",
      "include_colab_link": true
    },
    "kernelspec": {
      "name": "python3",
      "display_name": "Python 3"
    }
  },
  "cells": [
    {
      "cell_type": "markdown",
      "metadata": {
        "id": "view-in-github",
        "colab_type": "text"
      },
      "source": [
        "<a href=\"https://colab.research.google.com/github/clinton-mwachia/Deep-Learning/blob/master/Fashion_mnist.ipynb\" target=\"_parent\"><img src=\"https://colab.research.google.com/assets/colab-badge.svg\" alt=\"Open In Colab\"/></a>"
      ]
    },
    {
      "cell_type": "code",
      "metadata": {
        "id": "bJtRwILYi4u5",
        "colab_type": "code",
        "colab": {}
      },
      "source": [
        "from __future__ import print_function\n",
        "from keras.models import load_model\n",
        "from keras.datasets import fashion_mnist\n",
        "from keras.models import Sequential\n",
        "from keras.layers import Dense, Dropout\n",
        "import numpy as np\n",
        "\n",
        "batch_size = 128\n",
        "num_classes = 10\n",
        "epochs = 10"
      ],
      "execution_count": 20,
      "outputs": []
    },
    {
      "cell_type": "code",
      "metadata": {
        "id": "YNJKmYh-j8gO",
        "colab_type": "code",
        "colab": {}
      },
      "source": [
        "(x_train, y_train), (x_test, y_test) = fashion_mnist.load_data()\n",
        "\n",
        "print('shape of the train data is {}'.format(x_train.shape))\n",
        "print('shape of the test data is {}'.format(x_test.shape))\n",
        "\n",
        "# Flattening \n",
        "x_train = x_train.reshape(60000, 784).astype('float32')\n",
        "x_test = x_test.reshape(10000, 784).astype('float32')\n",
        "\n",
        "print('shape of the train data after reshape is {}'.format(x_train.shape))\n",
        "print('shape of the test data after reshape is {}'.format(x_test.shape))\n"
      ],
      "execution_count": null,
      "outputs": []
    },
    {
      "cell_type": "code",
      "metadata": {
        "id": "dxrdhkGZljdz",
        "colab_type": "code",
        "colab": {
          "base_uri": "https://localhost:8080/",
          "height": 119
        },
        "outputId": "2a75fc10-7939-41f8-f120-acdfc8ea140e"
      },
      "source": [
        "print(x_train.max()) ; print(x_train.min())\n",
        "print(x_test.max()) ; print(x_test.min())\n",
        "\n",
        "print(y_train)\n",
        "print(y_test)"
      ],
      "execution_count": 16,
      "outputs": [
        {
          "output_type": "stream",
          "text": [
            "255.0\n",
            "0.0\n",
            "255.0\n",
            "0.0\n",
            "[9 0 0 ... 3 0 5]\n",
            "[9 2 1 ... 8 1 5]\n"
          ],
          "name": "stdout"
        }
      ]
    },
    {
      "cell_type": "code",
      "metadata": {
        "id": "zmZitAHqlVig",
        "colab_type": "code",
        "colab": {
          "base_uri": "https://localhost:8080/",
          "height": 323
        },
        "outputId": "2bb7e854-babe-43a8-9463-9a14ba4b0986"
      },
      "source": [
        "# Normalization\n",
        "x_train = (x_train - np.mean(x_train)) / np.std(x_train)\n",
        "x_test = (x_test - np.mean(x_test)) / np.std(x_test)\n",
        "\n",
        "y_train = keras.utils.to_categorical(y_train, num_classes=num_classes)\n",
        "y_test = keras.utils.to_categorical(y_test, num_classes=num_classes)\n",
        "\n",
        "print(x_train.max()) ; print(x_train.min())\n",
        "print(x_test.max()) ; print(x_test.min())\n",
        "\n",
        "print(y_train)\n",
        "print(y_test)"
      ],
      "execution_count": 17,
      "outputs": [
        {
          "output_type": "stream",
          "text": [
            "2.0224075\n",
            "-0.8102582\n",
            "2.0234427\n",
            "-0.81388575\n",
            "[[0. 0. 0. ... 0. 0. 1.]\n",
            " [1. 0. 0. ... 0. 0. 0.]\n",
            " [1. 0. 0. ... 0. 0. 0.]\n",
            " ...\n",
            " [0. 0. 0. ... 0. 0. 0.]\n",
            " [1. 0. 0. ... 0. 0. 0.]\n",
            " [0. 0. 0. ... 0. 0. 0.]]\n",
            "[[0. 0. 0. ... 0. 0. 1.]\n",
            " [0. 0. 1. ... 0. 0. 0.]\n",
            " [0. 1. 0. ... 0. 0. 0.]\n",
            " ...\n",
            " [0. 0. 0. ... 0. 1. 0.]\n",
            " [0. 1. 0. ... 0. 0. 0.]\n",
            " [0. 0. 0. ... 0. 0. 0.]]\n"
          ],
          "name": "stdout"
        }
      ]
    },
    {
      "cell_type": "code",
      "metadata": {
        "id": "OYOnJXh5nB6m",
        "colab_type": "code",
        "colab": {
          "base_uri": "https://localhost:8080/",
          "height": 289
        },
        "outputId": "764952bd-ce00-4f48-f7a9-a92000531b5f"
      },
      "source": [
        "model = Sequential()\n",
        "model.add(Dense(256, activation='relu', input_shape=(784,)))\n",
        "model.add(Dropout(0.4))\n",
        "model.add(Dense(512, activation='relu'))\n",
        "model.add(Dense(num_classes,activation='softmax'))\n",
        "\n",
        "model.summary()"
      ],
      "execution_count": 18,
      "outputs": [
        {
          "output_type": "stream",
          "text": [
            "Model: \"sequential_1\"\n",
            "_________________________________________________________________\n",
            "Layer (type)                 Output Shape              Param #   \n",
            "=================================================================\n",
            "dense_1 (Dense)              (None, 256)               200960    \n",
            "_________________________________________________________________\n",
            "dropout_1 (Dropout)          (None, 256)               0         \n",
            "_________________________________________________________________\n",
            "dense_2 (Dense)              (None, 512)               131584    \n",
            "_________________________________________________________________\n",
            "dense_3 (Dense)              (None, 10)                5130      \n",
            "=================================================================\n",
            "Total params: 337,674\n",
            "Trainable params: 337,674\n",
            "Non-trainable params: 0\n",
            "_________________________________________________________________\n"
          ],
          "name": "stdout"
        }
      ]
    },
    {
      "cell_type": "code",
      "metadata": {
        "id": "N4In58X3oUd5",
        "colab_type": "code",
        "colab": {
          "base_uri": "https://localhost:8080/",
          "height": 411
        },
        "outputId": "26b92f32-eec9-4133-a8a0-d6b636a5b3b6"
      },
      "source": [
        "model.compile(loss='categorical_crossentropy', optimizer='adam',\n",
        "              metrics=['accuracy'])\n",
        "\n",
        "model.fit(x=x_train, y=y_train, batch_size=batch_size,\n",
        "          epochs=epochs,\n",
        "          validation_data=(x_test,y_test))"
      ],
      "execution_count": 21,
      "outputs": [
        {
          "output_type": "stream",
          "text": [
            "Train on 60000 samples, validate on 10000 samples\n",
            "Epoch 1/10\n",
            "60000/60000 [==============================] - 6s 93us/step - loss: 0.3856 - accuracy: 0.8595 - val_loss: 0.3775 - val_accuracy: 0.8644\n",
            "Epoch 2/10\n",
            "60000/60000 [==============================] - 5s 90us/step - loss: 0.3605 - accuracy: 0.8666 - val_loss: 0.3539 - val_accuracy: 0.8687\n",
            "Epoch 3/10\n",
            "60000/60000 [==============================] - 5s 90us/step - loss: 0.3441 - accuracy: 0.8727 - val_loss: 0.3499 - val_accuracy: 0.8716\n",
            "Epoch 4/10\n",
            "60000/60000 [==============================] - 5s 89us/step - loss: 0.3280 - accuracy: 0.8779 - val_loss: 0.3427 - val_accuracy: 0.8784\n",
            "Epoch 5/10\n",
            "60000/60000 [==============================] - 5s 89us/step - loss: 0.3154 - accuracy: 0.8823 - val_loss: 0.3379 - val_accuracy: 0.8762\n",
            "Epoch 6/10\n",
            "60000/60000 [==============================] - 5s 90us/step - loss: 0.3093 - accuracy: 0.8856 - val_loss: 0.3270 - val_accuracy: 0.8815\n",
            "Epoch 7/10\n",
            "60000/60000 [==============================] - 5s 90us/step - loss: 0.2998 - accuracy: 0.8870 - val_loss: 0.3274 - val_accuracy: 0.8841\n",
            "Epoch 8/10\n",
            "60000/60000 [==============================] - 5s 90us/step - loss: 0.2927 - accuracy: 0.8908 - val_loss: 0.3254 - val_accuracy: 0.8825\n",
            "Epoch 9/10\n",
            "60000/60000 [==============================] - 5s 89us/step - loss: 0.2835 - accuracy: 0.8939 - val_loss: 0.3239 - val_accuracy: 0.8831\n",
            "Epoch 10/10\n",
            "60000/60000 [==============================] - 6s 92us/step - loss: 0.2798 - accuracy: 0.8956 - val_loss: 0.3209 - val_accuracy: 0.8842\n"
          ],
          "name": "stdout"
        },
        {
          "output_type": "execute_result",
          "data": {
            "text/plain": [
              "<keras.callbacks.callbacks.History at 0x7f3216b40f28>"
            ]
          },
          "metadata": {
            "tags": []
          },
          "execution_count": 21
        }
      ]
    },
    {
      "cell_type": "code",
      "metadata": {
        "id": "21MaSVzrpOPd",
        "colab_type": "code",
        "colab": {}
      },
      "source": [
        "model.save('my_model.h5')"
      ],
      "execution_count": 22,
      "outputs": []
    },
    {
      "cell_type": "code",
      "metadata": {
        "id": "Ilwc1DU2pajb",
        "colab_type": "code",
        "colab": {
          "base_uri": "https://localhost:8080/",
          "height": 68
        },
        "outputId": "4ce5e16b-61ce-4333-d7b6-b7e775844e9d"
      },
      "source": [
        "score = model.evaluate(x_test, y_test, verbose=1)\n",
        "print('Test loss: ', score[0] * 100)\n",
        "print('Test accuracy :', score[1] * 100)"
      ],
      "execution_count": 24,
      "outputs": [
        {
          "output_type": "stream",
          "text": [
            "10000/10000 [==============================] - 0s 45us/step\n",
            "Test loss:  32.08529007434845\n",
            "Test accuracy : 88.41999769210815\n"
          ],
          "name": "stdout"
        }
      ]
    }
  ]
}